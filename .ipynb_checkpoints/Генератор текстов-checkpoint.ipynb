{
 "cells": [
  {
   "cell_type": "markdown",
   "metadata": {},
   "source": [
    "# Реализация n-gram языковой модели"
   ]
  },
  {
   "cell_type": "code",
   "execution_count": 188,
   "metadata": {},
   "outputs": [],
   "source": [
    "import os\n",
    "import sqlite3\n",
    "import re\n",
    "import tqdm\n",
    "from scipy.optimize import differential_evolution\n",
    "import random"
   ]
  },
  {
   "cell_type": "code",
   "execution_count": 2,
   "metadata": {},
   "outputs": [],
   "source": [
    "class DBNews:\n",
    "    '''Чтение текстов нововстей из базы'''\n",
    "\n",
    "    def __init__(self):\n",
    "        self.conn = sqlite3.connect(\"news.db\")\n",
    "        self.cursor = self.conn.cursor()\n",
    "        \n",
    "    def get_texts(self):\n",
    "        val = self.cursor.execute('SELECT title_news || \" \" || text_news FROM news')\n",
    "        return(val)\n",
    "    \n",
    "    def get_text(self, id_news):\n",
    "        val = self.cursor.execute('SELECT title_news, text_news FROM news WHERE id=?', (id_news,))\n",
    "        return(val.fetchone())"
   ]
  },
  {
   "cell_type": "markdown",
   "metadata": {},
   "source": [
    "#### Формирование дерева"
   ]
  },
  {
   "cell_type": "markdown",
   "metadata": {},
   "source": [
    "Многоуровневая модель с вариативной длиной n-граммов (максимум 3-граммы)"
   ]
  },
  {
   "cell_type": "code",
   "execution_count": 68,
   "metadata": {},
   "outputs": [],
   "source": [
    "class NGrammFit:\n",
    "    '''Формирование дерева n-gramm на основании текстов'''\n",
    "    \n",
    "    def __init__(self, obj=None):\n",
    "        if obj is None: self._fit()\n",
    "        else: self.n_gram = obj.n_gram\n",
    "            \n",
    "    def _fit(self):\n",
    "        news = DBNews().get_texts()\n",
    "        self.n_gram={}\n",
    "        for n in tqdm.tqdm_notebook(news):\n",
    "            text = n[0]\n",
    "            if len(text)<5: continue\n",
    "            text = self._text_clear(text)\n",
    "            text_arr = text.split(' ')\n",
    "            self._set_text(text_arr)   \n",
    "        self._calculate_proba(self.n_gram)\n",
    "        \n",
    "    def _text_clear(self, text_in):\n",
    "        text_out = text_in.lower()\n",
    "        text_out = re.compile('[^a-zа-я ё.]').sub('', text_out)\n",
    "        text_out = re.sub(r'\\s+', ' ', text_out)\n",
    "        if text_out[-1]=='.': text_out = text_out[:-1] + ' <K>' \n",
    "        else: text_out = text_out + ' <K>' \n",
    "        text_out = '<N> ' + text_out.replace(', ', ' ,').replace('.', ' <P> ').replace('  ', ' ')\n",
    "        text_out = text_out.replace('<N>', '<S>').replace('<P>', '<S>').replace('<K>', '<S>')\n",
    "        return text_out\n",
    "    \n",
    "    def _set_text(self, text_arr):\n",
    "        for i in range(len(text_arr)-2):\n",
    "            self._recursive_set(self.n_gram, text_arr[i:i+3])\n",
    "        self._recursive_set(self.n_gram, text_arr[i+1:i+3])\n",
    "\n",
    "    def _recursive_set(self, n_gram, words):\n",
    "        if not words[0] in n_gram: n_gram[words[0]] = {'VAL':0}\n",
    "        n_gram = n_gram[words[0]]\n",
    "        n_gram['VAL'] += 1\n",
    "        if len(words)>1: self._recursive_set(n_gram, words[1:])\n",
    "    \n",
    "    def _calculate_proba(self, n_gram):\n",
    "        count_child = 0\n",
    "        sum_val_child = 0\n",
    "        for k, v in n_gram.items():\n",
    "            if k=='VAL': continue\n",
    "            sum_val_child += v['VAL']\n",
    "            count_child += 1\n",
    "            if len(n_gram[k])>1:\n",
    "                self._calculate_proba(n_gram[k])\n",
    "        n_gram['SUM_VAL_CHILD'] = sum_val_child\n",
    "        n_gram['COUNT_CHILD'] = count_child\n",
    "                \n",
    "    def _get_min_proba(self):\n",
    "        sum_val_child = 0\n",
    "        count_child = 1\n",
    "        for k, v in self.n_gram.items():\n",
    "            if k=='VAL' or k=='SUM_VAL_CHILD' or k=='COUNT_CHILD': continue\n",
    "            sum_val_child += v['VAL']\n",
    "            count_child += 1\n",
    "        return 1/(sum_val_child+count_child)"
   ]
  },
  {
   "cell_type": "code",
   "execution_count": 69,
   "metadata": {},
   "outputs": [
    {
     "data": {
      "application/vnd.jupyter.widget-view+json": {
       "model_id": "00d8e39eaac44f2a86db43e8064b4fa8",
       "version_major": 2,
       "version_minor": 0
      },
      "text/plain": [
       "HBox(children=(IntProgress(value=1, bar_style='info', max=1), HTML(value='')))"
      ]
     },
     "metadata": {},
     "output_type": "display_data"
    },
    {
     "name": "stdout",
     "output_type": "stream",
     "text": [
      "\n"
     ]
    }
   ],
   "source": [
    "n_gramm = NGrammFit()"
   ]
  },
  {
   "cell_type": "markdown",
   "metadata": {},
   "source": [
    "#### Задание №1 Предсказание вероятности входного предложения"
   ]
  },
  {
   "cell_type": "markdown",
   "metadata": {},
   "source": [
    "- Применено сглаживание по методу откат: переход к с более низким n, для которых достаточно данных (3-2 грамм)\n",
    "- Применяется сглаживание Лапласа - если для биграммы нет 2 слова оно считается встречающимся 1 раз\n",
    "- Если слова из фразы вообще нет в словаре, то считается, что оно встречалось 1 раз"
   ]
  },
  {
   "cell_type": "code",
   "execution_count": 71,
   "metadata": {},
   "outputs": [],
   "source": [
    "class Task1(NGrammFit):\n",
    "    \n",
    "    def __init__(self, obj=None):\n",
    "        super().__init__(obj)\n",
    "    \n",
    "    def get_text_proba(self, text, show=False):\n",
    "        text = '<S> '+text+' <S>'\n",
    "        text_arr = text.split(' ')\n",
    "        i, proba = 0, 1\n",
    "        while i<len(text_arr)-1:\n",
    "            proba_val = self._get_proba(text_arr[i:])\n",
    "            if proba_val:\n",
    "                j, t_proba = proba_val\n",
    "                C = text_arr[i:i+j] # для показа\n",
    "                i += j-1\n",
    "            else:\n",
    "                C = text_arr[i] # для показа\n",
    "                t_proba = self._get_min_proba()\n",
    "                i+=1\n",
    "            if show: print(C, round(t_proba,5)) # для показа\n",
    "            proba *= t_proba\n",
    "        return proba\n",
    "    \n",
    "    def _get_proba(self, token):\n",
    "        n_gram_local = self.n_gram\n",
    "        i, proba = 0, 0\n",
    "        a_laplas = 1\n",
    "        for word in token:\n",
    "            if word in n_gram_local:\n",
    "                i+=1\n",
    "                val = n_gram_local[word]['VAL']\n",
    "                sum_val = n_gram_local['SUM_VAL_CHILD']\n",
    "                count = n_gram_local['COUNT_CHILD']+1\n",
    "                proba = (val+a_laplas)/(sum_val+count*a_laplas)\n",
    "                n_gram_local = n_gram_local[word]\n",
    "            else: break\n",
    "        if i==0: return False\n",
    "        if i==1:\n",
    "            sum_val = n_gram_local['SUM_VAL_CHILD']\n",
    "            count = n_gram_local['COUNT_CHILD']\n",
    "            proba = a_laplas/(sum_val+count*a_laplas)\n",
    "            i+=1\n",
    "        return i, proba"
   ]
  },
  {
   "cell_type": "code",
   "execution_count": 72,
   "metadata": {},
   "outputs": [],
   "source": [
    "obj_task_1 = Task1(n_gramm)"
   ]
  },
  {
   "cell_type": "code",
   "execution_count": 73,
   "metadata": {},
   "outputs": [
    {
     "name": "stdout",
     "output_type": "stream",
     "text": [
      "['<S>', 'на', 'совещании'] 0.00288\n",
      "['совещании', 'с', 'главами'] 0.11538\n",
      "['главами', 'районов'] 0.06667\n",
      "['районов', '<S>'] 0.06393\n"
     ]
    },
    {
     "data": {
      "text/plain": [
       "1.4144171540512444e-06"
      ]
     },
     "execution_count": 73,
     "metadata": {},
     "output_type": "execute_result"
    }
   ],
   "source": [
    "obj_task_1.get_text_proba('на совещании с главами районов', True)"
   ]
  },
  {
   "cell_type": "markdown",
   "metadata": {},
   "source": [
    "#### Задание №2 Предсказание наиболее вероятных пар ко входному слову"
   ]
  },
  {
   "cell_type": "code",
   "execution_count": 219,
   "metadata": {},
   "outputs": [],
   "source": [
    "class Task2(Task1):\n",
    "    \n",
    "    def __init__(self, obj=None):\n",
    "        super().__init__(obj)\n",
    "        \n",
    "    def get_couples(self, word, count_var=5):\n",
    "        if not word in self.n_gram: return False\n",
    "        self.not_in = {'VAL', 'SUM_VAL_CHILD', 'COUNT_CHILD'}\n",
    "        couples = self._get_2gram(self.n_gram[word], count_var)\n",
    "        couples.extend(self._get_3gram(self.n_gram[word], count_var))\n",
    "        return couples\n",
    "    \n",
    "    def _get_2gram(self, local_n_gram, count_var):\n",
    "        answer = sorted(local_n_gram, reverse=True, \n",
    "                        key=lambda x: local_n_gram[x]['VAL'] if not x in self.not_in else 0)\n",
    "        for ni in self.not_in:\n",
    "            if ni in answer:\n",
    "                answer.remove(ni)\n",
    "        return answer[:count_var]\n",
    "    \n",
    "    def _get_3gram(self, local_n_gram, count_var):\n",
    "        answer = {}\n",
    "        for k,v in local_n_gram.items():\n",
    "            if k in self.not_in: continue\n",
    "            next_words = self._get_2gram(v, count_var)\n",
    "            for nw in next_words:\n",
    "                key = k+' '+nw\n",
    "                val = v[nw]['VAL']\n",
    "                answer.update({key:val})\n",
    "        answer = sorted(answer, reverse=True, key=lambda x: answer[x])\n",
    "        return answer[:count_var]\n",
    "            \n",
    "    "
   ]
  },
  {
   "cell_type": "code",
   "execution_count": 220,
   "metadata": {},
   "outputs": [],
   "source": [
    "obj_task_2 = Task2(n_gramm)"
   ]
  },
  {
   "cell_type": "code",
   "execution_count": 266,
   "metadata": {},
   "outputs": [
    {
     "data": {
      "text/plain": [
       "['федерации',\n",
       " 'стороны',\n",
       " 'академии',\n",
       " 'столице',\n",
       " 'премьерлиги',\n",
       " 'федерации <S>',\n",
       " 'академии наук',\n",
       " 'премьерлиги рпл',\n",
       " 'федерации в',\n",
       " 'федерации и']"
      ]
     },
     "execution_count": 266,
     "metadata": {},
     "output_type": "execute_result"
    }
   ],
   "source": [
    "obj_task_2.get_couples('российской')"
   ]
  },
  {
   "cell_type": "markdown",
   "metadata": {},
   "source": [
    "#### Задание №3 Продолжение входной фразы словами до заданной длины"
   ]
  },
  {
   "cell_type": "code",
   "execution_count": 229,
   "metadata": {},
   "outputs": [],
   "source": [
    "class Task3(Task2):\n",
    "    \n",
    "    def __init__(self, obj=None):\n",
    "        super().__init__(obj)\n",
    "        \n",
    "    def get_continue(self, begin, len_continue):\n",
    "        text_arr = begin.split(' ')\n",
    "        if len(text_arr)>=len_continue: return begin\n",
    "        word = text_arr[-1]\n",
    "        next_text = self._get_next_text(word)\n",
    "        begin += ' '+next_text\n",
    "        return self.get_continue(begin, len_continue)\n",
    "    \n",
    "    def _get_next_text(self, word):\n",
    "        next_text = self.get_couples(word, 5)\n",
    "        return random.choice(next_text)"
   ]
  },
  {
   "cell_type": "code",
   "execution_count": 230,
   "metadata": {},
   "outputs": [],
   "source": [
    "obj_task_3 = Task3(n_gramm)"
   ]
  },
  {
   "cell_type": "code",
   "execution_count": 289,
   "metadata": {},
   "outputs": [
    {
     "data": {
      "text/plain": [
       "'на совещании с главами районов приморского края на борту самолета находились человек включая членов экипажа потерпел'"
      ]
     },
     "execution_count": 289,
     "metadata": {},
     "output_type": "execute_result"
    }
   ],
   "source": [
    "obj_task_3.get_continue('на совещании с главами районов', 15)"
   ]
  },
  {
   "cell_type": "markdown",
   "metadata": {},
   "source": [
    "#### Задание №3 Продолжение входной фразы словами до заданной длины\n",
    "С помощью генетического алгоритма (неудачный вариант)"
   ]
  },
  {
   "cell_type": "code",
   "execution_count": 159,
   "metadata": {},
   "outputs": [],
   "source": [
    "class Task3_(Task2):\n",
    "    \n",
    "    def __init__(self, obj=None):\n",
    "        super().__init__(obj)\n",
    "        self.id_words = sorted(self.n_gram.keys())\n",
    "        self.id_words.remove('SUM_VAL_CHILD')\n",
    "        self.id_words.remove('COUNT_CHILD')\n",
    "        \n",
    "    def get_continue(self, begin, len_continue):\n",
    "        max_id = len(self.id_words)-1\n",
    "        bounds = []\n",
    "        for i in range(len_continue):\n",
    "            bounds.append((0, max_id))\n",
    "        result = differential_evolution(self._fitnes_evolution, bounds, args=(begin,))\n",
    "        text = begin + self._get_text_in_id(result['x'])\n",
    "        return text, result\n",
    "\n",
    "    def _fitnes_evolution(self, parameters, *data):\n",
    "        begin = data[0]\n",
    "        text = begin + self._get_text_in_id(parameters)\n",
    "        try:\n",
    "            proba = self.get_text_proba(text)\n",
    "        except Exception as e:\n",
    "            print(text)\n",
    "            raise\n",
    "        \n",
    "        return (1/proba)**len(text.split(' '))\n",
    "    \n",
    "    def _get_text_in_id(self, list_id):\n",
    "        text = ''\n",
    "        for id_w in list_id:\n",
    "            word = self.id_words[int(id_w)]\n",
    "            text += ' '+word\n",
    "        return text"
   ]
  },
  {
   "cell_type": "code",
   "execution_count": 160,
   "metadata": {},
   "outputs": [],
   "source": [
    "obj_task_3_ = Task3_(n_gramm)"
   ]
  },
  {
   "cell_type": "code",
   "execution_count": 161,
   "metadata": {},
   "outputs": [
    {
     "data": {
      "text/plain": [
       "('на совещании с главами районов хаманият карлесом плотностью млн куб',\n",
       "      fun: 5.732463875227128e+79\n",
       "  message: 'Optimization terminated successfully.'\n",
       "     nfev: 19656\n",
       "      nit: 261\n",
       "  success: True\n",
       "        x: array([136024.98703711,  49383.64879731,  88010.30165997,  64604.40364974,\n",
       "         56337.74710221]))"
      ]
     },
     "execution_count": 161,
     "metadata": {},
     "output_type": "execute_result"
    }
   ],
   "source": [
    "obj_task_3_.get_continue('на совещании с главами районов', 5)"
   ]
  }
 ],
 "metadata": {
  "kernelspec": {
   "display_name": "Python 3",
   "language": "python",
   "name": "python3"
  },
  "language_info": {
   "codemirror_mode": {
    "name": "ipython",
    "version": 3
   },
   "file_extension": ".py",
   "mimetype": "text/x-python",
   "name": "python",
   "nbconvert_exporter": "python",
   "pygments_lexer": "ipython3",
   "version": "3.7.0"
  }
 },
 "nbformat": 4,
 "nbformat_minor": 2
}
